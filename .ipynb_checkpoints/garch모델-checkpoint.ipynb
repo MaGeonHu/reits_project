{
 "cells": [
  {
   "cell_type": "code",
   "execution_count": 36,
   "id": "8d4cc6fc-2850-4e12-b4ef-123e38c360a2",
   "metadata": {},
   "outputs": [],
   "source": [
    "import datetime\n",
    "import numpy as np\n",
    "import pandas as pd\n",
    "import yfinance as yf\n",
    "import warnings\n",
    "from arch import arch_model\n",
    "from pmdarima.arima import auto_arima\n",
    "warnings.filterwarnings('ignore')"
   ]
  },
  {
   "cell_type": "code",
   "execution_count": 37,
   "id": "33c7d506-1af1-406b-8679-5a053b75d7d8",
   "metadata": {},
   "outputs": [],
   "source": [
    "def day_price_ret(ticker_symbol,s_date,e_date):\n",
    "    stock_symbol = ticker_symbol\n",
    "\n",
    "    stock_data = yf.download(stock_symbol, start=s_date, end=e_date)\n",
    "    stock_data = stock_data.set_index(pd.to_datetime(stock_data.index))\n",
    "\n",
    "    weekly_returns = stock_data['Adj Close'].pct_change().dropna()\n",
    "\n",
    "    return pd.DataFrame(weekly_returns)"
   ]
  },
  {
   "cell_type": "code",
   "execution_count": 47,
   "id": "82bfa901-a922-47e1-a402-62de969104c9",
   "metadata": {},
   "outputs": [
    {
     "name": "stderr",
     "output_type": "stream",
     "text": [
      "[*********************100%%**********************]  1 of 1 completed\n",
      "[*********************100%%**********************]  1 of 1 completed\n"
     ]
    }
   ],
   "source": [
    "s_date = datetime.datetime(2022,4,1)\n",
    "e_date = datetime.datetime(2024,4,1)\n",
    "kos = day_price_ret('^KS11',s_date,e_date)['Adj Close']\n",
    "df = day_price_ret('395400.ks',s_date,e_date)['Adj Close']"
   ]
  },
  {
   "cell_type": "code",
   "execution_count": 49,
   "id": "5b2b5c17-4b6c-4484-a929-36f39d0b9247",
   "metadata": {},
   "outputs": [
    {
     "name": "stdout",
     "output_type": "stream",
     "text": [
      "Beta: h.1   -0.006921\n",
      "Name: 2024-03-29 00:00:00, dtype: float64\n"
     ]
    }
   ],
   "source": [
    "model = arch_model(df, vol='GARCH', p=1, q=1)\n",
    "result = model.fit(disp='off')\n",
    "\n",
    "\n",
    "forecast_volatility = result.forecast(horizon=1)\n",
    "\n",
    "last_volatility = forecast_volatility.mean.iloc[-1]\n",
    "\n",
    "correlation = np.corrcoef(df, kos)[0, 1]\n",
    "\n",
    "beta = correlation * (last_volatility / kos.std())\n",
    "\n",
    "print(\"Beta:\", beta)"
   ]
  },
  {
   "cell_type": "code",
   "execution_count": 50,
   "id": "88db76ea-2a13-4a3d-9a3d-922b289cca7a",
   "metadata": {},
   "outputs": [],
   "source": [
    "## 금리 인상기에 비정상상성을 띄는 종목들이 있는데 그 종목들만 정상적으로 변경해서 garch에 넣어야 하는지 비교군들 또한 같은 전처리 과정이 필요한지?\n",
    "## garch 값의 최적의 p와 q를 고르는 법\n",
    "## garch 에서 나온 변동성을 통해 beta값을 구할때 kospi의 표준편차로 나워야하는지? 리츠의 표준편차로 나눠야 하는지?\n",
    "## garch 모형이 적합한지 적합성을 검정하는 법"
   ]
  },
  {
   "cell_type": "code",
   "execution_count": null,
   "id": "76f0c10b-cba6-4f2d-9a52-f32e20b89dcf",
   "metadata": {},
   "outputs": [],
   "source": []
  }
 ],
 "metadata": {
  "kernelspec": {
   "display_name": "Python 3 (ipykernel)",
   "language": "python",
   "name": "python3"
  },
  "language_info": {
   "codemirror_mode": {
    "name": "ipython",
    "version": 3
   },
   "file_extension": ".py",
   "mimetype": "text/x-python",
   "name": "python",
   "nbconvert_exporter": "python",
   "pygments_lexer": "ipython3",
   "version": "3.11.5"
  }
 },
 "nbformat": 4,
 "nbformat_minor": 5
}
