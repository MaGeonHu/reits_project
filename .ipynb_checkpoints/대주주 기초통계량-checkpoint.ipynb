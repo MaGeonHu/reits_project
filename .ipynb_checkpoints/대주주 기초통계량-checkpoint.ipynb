{
 "cells": [
  {
   "cell_type": "code",
   "execution_count": 1,
   "id": "674bd3f2-e98e-4abf-a246-c974fd1b9ba3",
   "metadata": {},
   "outputs": [],
   "source": [
    "import datetime\n",
    "import numpy as np\n",
    "import pandas as pd\n",
    "import yfinance as yf\n",
    "import warnings\n",
    "from scipy.stats import pearsonr\n",
    "warnings.filterwarnings('ignore')"
   ]
  },
  {
   "cell_type": "code",
   "execution_count": 2,
   "id": "b68d5a88-a9d3-49dd-afdd-47dd17f1d230",
   "metadata": {},
   "outputs": [],
   "source": [
    "def day_price_ret(ticker_symbol,s_date,e_date):\n",
    "    stock_symbol = ticker_symbol\n",
    "\n",
    "    stock_data = yf.download(stock_symbol, start=s_date, end=e_date)\n",
    "    stock_data = stock_data.set_index(pd.to_datetime(stock_data.index))\n",
    "\n",
    "    weekly_returns = stock_data['Adj Close'].pct_change().dropna()\n",
    "\n",
    "    return pd.DataFrame(weekly_returns)"
   ]
  },
  {
   "cell_type": "code",
   "execution_count": 11,
   "id": "e458aef3-39d5-418a-bcac-3b91d6cb34e0",
   "metadata": {},
   "outputs": [],
   "source": [
    "stock_list = ['^KS11','^KQ11','034730.ks' , '023530.ks','267250.ks','006730.kq','086790.ks','395400.ks','330590.ks','357120.ks','404990.ks','417310.ks']\n",
    "s_date = datetime.datetime(2022,4,1)\n",
    "e_date = datetime.datetime(2024,4,1)"
   ]
  },
  {
   "cell_type": "code",
   "execution_count": 12,
   "id": "7acd9bed-94fb-45d6-93d4-d022387e2562",
   "metadata": {
    "scrolled": true
   },
   "outputs": [
    {
     "name": "stderr",
     "output_type": "stream",
     "text": [
      "[*********************100%%**********************]  1 of 1 completed\n",
      "[*********************100%%**********************]  1 of 1 completed\n",
      "[*********************100%%**********************]  1 of 1 completed\n",
      "[*********************100%%**********************]  1 of 1 completed\n",
      "[*********************100%%**********************]  1 of 1 completed\n",
      "[*********************100%%**********************]  1 of 1 completed\n",
      "[*********************100%%**********************]  1 of 1 completed\n",
      "[*********************100%%**********************]  1 of 1 completed\n",
      "[*********************100%%**********************]  1 of 1 completed\n",
      "[*********************100%%**********************]  1 of 1 completed\n",
      "[*********************100%%**********************]  1 of 1 completed\n",
      "[*********************100%%**********************]  1 of 1 completed\n"
     ]
    }
   ],
   "source": [
    "d_ret_df = pd.DataFrame()\n",
    "for i in stock_list:\n",
    "    price = day_price_ret(i,s_date,e_date)\n",
    "    d_ret_df = pd.concat([d_ret_df,p rice],axis = 1)"
   ]
  },
  {
   "cell_type": "code",
   "execution_count": 13,
   "id": "b1f66854-82c3-4fdc-bb0f-87c85e153bf8",
   "metadata": {},
   "outputs": [],
   "source": [
    "d_ret_df.columns =['코스피','코스닥','SK㈜','롯데쇼핑','HD현대','서부티앤디','하나금융지주','SK리츠','롯데리츠','코람코라이프인프라리츠','신한서부티앤디리츠','코람코더원리츠']"
   ]
  },
  {
   "cell_type": "code",
   "execution_count": 15,
   "id": "371d2474-edbb-485f-bc80-37d6aa8a96c7",
   "metadata": {},
   "outputs": [],
   "source": [
    "d_ret_df = d_ret_df.describe()"
   ]
  },
  {
   "cell_type": "code",
   "execution_count": 16,
   "id": "9c04f679-90a4-4edf-981a-b18f29954097",
   "metadata": {},
   "outputs": [
    {
     "data": {
      "text/html": [
       "<div>\n",
       "<style scoped>\n",
       "    .dataframe tbody tr th:only-of-type {\n",
       "        vertical-align: middle;\n",
       "    }\n",
       "\n",
       "    .dataframe tbody tr th {\n",
       "        vertical-align: top;\n",
       "    }\n",
       "\n",
       "    .dataframe thead th {\n",
       "        text-align: right;\n",
       "    }\n",
       "</style>\n",
       "<table border=\"1\" class=\"dataframe\">\n",
       "  <thead>\n",
       "    <tr style=\"text-align: right;\">\n",
       "      <th></th>\n",
       "      <th>코스피</th>\n",
       "      <th>코스닥</th>\n",
       "      <th>SK㈜</th>\n",
       "      <th>SK리츠</th>\n",
       "      <th>롯데쇼핑</th>\n",
       "      <th>롯데리츠</th>\n",
       "      <th>HD현대</th>\n",
       "      <th>코람코라이프인프라리츠</th>\n",
       "      <th>서부티앤디</th>\n",
       "      <th>신한서부티앤디리츠</th>\n",
       "      <th>하나금융지주</th>\n",
       "      <th>코람코더원리츠</th>\n",
       "    </tr>\n",
       "  </thead>\n",
       "  <tbody>\n",
       "    <tr>\n",
       "      <th>mean</th>\n",
       "      <td>0.000061</td>\n",
       "      <td>0.000037</td>\n",
       "      <td>-0.000319</td>\n",
       "      <td>-0.000500</td>\n",
       "      <td>-0.000268</td>\n",
       "      <td>-0.000868</td>\n",
       "      <td>0.000999</td>\n",
       "      <td>-0.000228</td>\n",
       "      <td>-0.000167</td>\n",
       "      <td>-0.000046</td>\n",
       "      <td>0.000865</td>\n",
       "      <td>0.000003</td>\n",
       "    </tr>\n",
       "    <tr>\n",
       "      <th>std</th>\n",
       "      <td>0.010555</td>\n",
       "      <td>0.015172</td>\n",
       "      <td>0.019395</td>\n",
       "      <td>0.014808</td>\n",
       "      <td>0.018518</td>\n",
       "      <td>0.012079</td>\n",
       "      <td>0.017070</td>\n",
       "      <td>0.010763</td>\n",
       "      <td>0.021532</td>\n",
       "      <td>0.014016</td>\n",
       "      <td>0.020058</td>\n",
       "      <td>0.012067</td>\n",
       "    </tr>\n",
       "    <tr>\n",
       "      <th>min</th>\n",
       "      <td>-0.035194</td>\n",
       "      <td>-0.050716</td>\n",
       "      <td>-0.067647</td>\n",
       "      <td>-0.063253</td>\n",
       "      <td>-0.076582</td>\n",
       "      <td>-0.058387</td>\n",
       "      <td>-0.056569</td>\n",
       "      <td>-0.049419</td>\n",
       "      <td>-0.077095</td>\n",
       "      <td>-0.061497</td>\n",
       "      <td>-0.059423</td>\n",
       "      <td>-0.056452</td>\n",
       "    </tr>\n",
       "    <tr>\n",
       "      <th>50%</th>\n",
       "      <td>0.000263</td>\n",
       "      <td>0.000507</td>\n",
       "      <td>-0.000704</td>\n",
       "      <td>0.000000</td>\n",
       "      <td>-0.001215</td>\n",
       "      <td>0.000000</td>\n",
       "      <td>0.000000</td>\n",
       "      <td>0.000000</td>\n",
       "      <td>-0.001349</td>\n",
       "      <td>0.000000</td>\n",
       "      <td>0.000000</td>\n",
       "      <td>0.000000</td>\n",
       "    </tr>\n",
       "    <tr>\n",
       "      <th>max</th>\n",
       "      <td>0.056592</td>\n",
       "      <td>0.073397</td>\n",
       "      <td>0.099251</td>\n",
       "      <td>0.079872</td>\n",
       "      <td>0.086183</td>\n",
       "      <td>0.049383</td>\n",
       "      <td>0.064371</td>\n",
       "      <td>0.036972</td>\n",
       "      <td>0.121554</td>\n",
       "      <td>0.071082</td>\n",
       "      <td>0.087866</td>\n",
       "      <td>0.057214</td>\n",
       "    </tr>\n",
       "  </tbody>\n",
       "</table>\n",
       "</div>"
      ],
      "text/plain": [
       "           코스피       코스닥       SK㈜      SK리츠      롯데쇼핑      롯데리츠      HD현대  \\\n",
       "mean  0.000061  0.000037 -0.000319 -0.000500 -0.000268 -0.000868  0.000999   \n",
       "std   0.010555  0.015172  0.019395  0.014808  0.018518  0.012079  0.017070   \n",
       "min  -0.035194 -0.050716 -0.067647 -0.063253 -0.076582 -0.058387 -0.056569   \n",
       "50%   0.000263  0.000507 -0.000704  0.000000 -0.001215  0.000000  0.000000   \n",
       "max   0.056592  0.073397  0.099251  0.079872  0.086183  0.049383  0.064371   \n",
       "\n",
       "      코람코라이프인프라리츠     서부티앤디  신한서부티앤디리츠    하나금융지주   코람코더원리츠  \n",
       "mean    -0.000228 -0.000167  -0.000046  0.000865  0.000003  \n",
       "std      0.010763  0.021532   0.014016  0.020058  0.012067  \n",
       "min     -0.049419 -0.077095  -0.061497 -0.059423 -0.056452  \n",
       "50%      0.000000 -0.001349   0.000000  0.000000  0.000000  \n",
       "max      0.036972  0.121554   0.071082  0.087866  0.057214  "
      ]
     },
     "execution_count": 16,
     "metadata": {},
     "output_type": "execute_result"
    }
   ],
   "source": [
    "d_ret_df.loc[['mean','std','min','50%','max'],['코스피','코스닥','SK㈜','SK리츠','롯데쇼핑','롯데리츠','HD현대','코람코라이프인프라리츠','서부티앤디','신한서부티앤디리츠','하나금융지주','코람코더원리츠']]"
   ]
  },
  {
   "cell_type": "code",
   "execution_count": 17,
   "id": "c5fd8475-b66c-4df7-b43e-30f8e4379630",
   "metadata": {},
   "outputs": [],
   "source": [
    "d_ret_df.to_csv('대주주_기초통계량.csv')"
   ]
  },
  {
   "cell_type": "code",
   "execution_count": null,
   "id": "881ccb1e-35f7-4796-a528-6675304ba1cc",
   "metadata": {},
   "outputs": [],
   "source": []
  }
 ],
 "metadata": {
  "kernelspec": {
   "display_name": "Python 3 (ipykernel)",
   "language": "python",
   "name": "python3"
  },
  "language_info": {
   "codemirror_mode": {
    "name": "ipython",
    "version": 3
   },
   "file_extension": ".py",
   "mimetype": "text/x-python",
   "name": "python",
   "nbconvert_exporter": "python",
   "pygments_lexer": "ipython3",
   "version": "3.11.5"
  }
 },
 "nbformat": 4,
 "nbformat_minor": 5
}
