{
 "cells": [
  {
   "cell_type": "code",
   "execution_count": 169,
   "id": "3a02664b-74d0-4e35-be98-63bdfd25cf6f",
   "metadata": {},
   "outputs": [],
   "source": [
    "import datetime\n",
    "import numpy as np\n",
    "import pandas as pd\n",
    "import yfinance as yf\n",
    "import warnings\n",
    "from scipy.stats import pearsonr\n",
    "warnings.filterwarnings('ignore')"
   ]
  },
  {
   "cell_type": "code",
   "execution_count": 170,
   "id": "bd1e4ffe-e14e-46da-9fe0-a20cf22066e5",
   "metadata": {},
   "outputs": [],
   "source": [
    "def load_data(ticker_symbol ,s_date, e_date):\n",
    "    stock_data = yf.download(ticker_symbol, start=s_date, end=e_date)\n",
    "    stock_data = stock_data[['Adj Close']].reset_index()\n",
    "    date_all = pd.date_range(s_date,e_date,freq='D').to_frame().rename(columns = {0:'Date'}).reset_index(drop=True)\n",
    "    price_df = pd.merge(date_all,stock_data,how='left')\n",
    "    price_df = price_df.fillna(method='ffill').dropna()\n",
    "    return price_df"
   ]
  },
  {
   "cell_type": "code",
   "execution_count": 171,
   "id": "1ccfaa2a-bbf2-44bc-8e5b-5835fd894439",
   "metadata": {},
   "outputs": [],
   "source": [
    "def price_ret(price_df,method):\n",
    "    if method == 'Y':\n",
    "        # print(\"연간 수익률\")\n",
    "        price_year = price_df.reset_index(drop=True).iloc[0::365,:]\n",
    "        year_ret = price_year.set_index(['Date']).pct_change().dropna()\n",
    "        return year_ret\n",
    "    elif method == 'M':\n",
    "        # print(\"월간 수익률\")\n",
    "        price_month = price_df.reset_index(drop=True).iloc[0::30,:]\n",
    "        month_ret = price_month.set_index(['Date']).pct_change().dropna()\n",
    "        return month_ret\n",
    "    elif method == 'W':\n",
    "        # print(\"주간 수익률\")\n",
    "        price_df = price_df.reset_index(drop= True)\n",
    "        price_df['Day_Name'] = price_df['Date'].dt.day_name()\n",
    "        price_mon = price_df[price_df['Day_Name'] == price_df['Day_Name'][0]].set_index(['Date']).drop(['Day_Name'], axis=1)\n",
    "        week_ret = price_mon.pct_change(1).dropna()\n",
    "        return week_ret\n",
    "    elif method == 'D':\n",
    "        # print(\"일별 수익률\")\n",
    "        price_day = price_df.set_index(['Date'])\n",
    "        day_ret = price_day.pct_change(1).dropna()\n",
    "        return day_ret\n",
    "    else : \n",
    "        print(f\"연속{method}일 수익률\")\n",
    "        price_df = price_df.set_index(['Date'])\n",
    "        return price_df.pct_change(method).dropna()"
   ]
  },
  {
   "cell_type": "code",
   "execution_count": 172,
   "id": "be725c74-7d1b-4e3b-86fb-c7f670314b21",
   "metadata": {},
   "outputs": [],
   "source": [
    "def pc_corr(method = 'P'):\n",
    "    c_inf = ['395400.ks' , '330590.ks','357120.ks','404990.ks','417310.ks']\n",
    "    p_inf = ['034730.ks' , '023530.ks','267250.ks','006730.kq','086790.ks']\n",
    "    ko_inf = ['^KS11','^KQ11']\n",
    "    corr = pd.DataFrame()\n",
    "    p_val = pd.DataFrame()\n",
    "    \n",
    "    # 전체기간\n",
    "    s_date = [datetime.datetime(2022,4,1),datetime.datetime(2022,7,1),datetime.datetime(2023,2,1)]\n",
    "    e_date = [datetime.datetime(2024,4,1),datetime.datetime(2022,12,31),datetime.datetime(2023,7,31)]\n",
    "    col_name = ['전체','금리 상승기','동결기']\n",
    "    for d in range(len(s_date)):\n",
    "        c_temp = []\n",
    "        p_temp = []   \n",
    "        for i in range(len(c_inf)):\n",
    "            c_symbol = c_inf[i]\n",
    "            if method == 'KS':\n",
    "                p_symbol = ko_inf[0]\n",
    "            elif method == 'KQ' :\n",
    "                p_symbol = ko_inf[1]\n",
    "            else :\n",
    "                p_symbol = p_inf[i]\n",
    "            c_df = load_data(c_symbol,s_date[d],e_date[d])\n",
    "            p_df = load_data(p_symbol,s_date[d],e_date[d])     \n",
    "            c_ret = price_ret(c_df,'D')\n",
    "            p_ret = price_ret(p_df,'D')\n",
    "            result = pearsonr(list(c_ret['Adj Close']),list(p_ret['Adj Close']))\n",
    "            c_temp.append(result[0])\n",
    "            p_temp.append(result[1])\n",
    "        corr[col_name[d]] = c_temp\n",
    "        p_val[col_name[d]] = p_temp\n",
    "\n",
    "    \n",
    "    corr.index = ['SK리츠','롯데리츠','코람코라이프인프라리츠','신한서부티앤디리츠','코람코더원리츠']\n",
    "    p_val.index = ['SK리츠','롯데리츠','코람코라이프인프라리츠','신한서부티앤디리츠','코람코더원리츠']\n",
    "\n",
    "    return corr,p_val"
   ]
  },
  {
   "cell_type": "code",
   "execution_count": 173,
   "id": "9434ccda-a04e-4779-b18b-0c54a20d4e61",
   "metadata": {
    "scrolled": true
   },
   "outputs": [
    {
     "name": "stderr",
     "output_type": "stream",
     "text": [
      "[*********************100%%**********************]  1 of 1 completed\n",
      "[*********************100%%**********************]  1 of 1 completed\n",
      "[*********************100%%**********************]  1 of 1 completed\n",
      "[*********************100%%**********************]  1 of 1 completed\n",
      "[*********************100%%**********************]  1 of 1 completed\n",
      "[*********************100%%**********************]  1 of 1 completed\n",
      "[*********************100%%**********************]  1 of 1 completed\n",
      "[*********************100%%**********************]  1 of 1 completed\n",
      "[*********************100%%**********************]  1 of 1 completed\n",
      "[*********************100%%**********************]  1 of 1 completed\n",
      "[*********************100%%**********************]  1 of 1 completed\n",
      "[*********************100%%**********************]  1 of 1 completed\n",
      "[*********************100%%**********************]  1 of 1 completed\n",
      "[*********************100%%**********************]  1 of 1 completed\n",
      "[*********************100%%**********************]  1 of 1 completed\n",
      "[*********************100%%**********************]  1 of 1 completed\n",
      "[*********************100%%**********************]  1 of 1 completed\n",
      "[*********************100%%**********************]  1 of 1 completed\n",
      "[*********************100%%**********************]  1 of 1 completed\n",
      "[*********************100%%**********************]  1 of 1 completed\n",
      "[*********************100%%**********************]  1 of 1 completed\n",
      "[*********************100%%**********************]  1 of 1 completed\n",
      "[*********************100%%**********************]  1 of 1 completed\n",
      "[*********************100%%**********************]  1 of 1 completed\n",
      "[*********************100%%**********************]  1 of 1 completed\n",
      "[*********************100%%**********************]  1 of 1 completed\n",
      "[*********************100%%**********************]  1 of 1 completed\n",
      "[*********************100%%**********************]  1 of 1 completed\n",
      "[*********************100%%**********************]  1 of 1 completed\n",
      "[*********************100%%**********************]  1 of 1 completed\n"
     ]
    }
   ],
   "source": [
    "s_corr,s_p_val=pc_corr()"
   ]
  },
  {
   "cell_type": "code",
   "execution_count": 174,
   "id": "a2244b03-e6e2-40d9-bcc7-fc0e7af03d30",
   "metadata": {
    "scrolled": true
   },
   "outputs": [
    {
     "name": "stderr",
     "output_type": "stream",
     "text": [
      "[*********************100%%**********************]  1 of 1 completed\n",
      "[*********************100%%**********************]  1 of 1 completed\n",
      "[*********************100%%**********************]  1 of 1 completed\n",
      "[*********************100%%**********************]  1 of 1 completed\n",
      "[*********************100%%**********************]  1 of 1 completed\n",
      "[*********************100%%**********************]  1 of 1 completed\n",
      "[*********************100%%**********************]  1 of 1 completed\n",
      "[*********************100%%**********************]  1 of 1 completed\n",
      "[*********************100%%**********************]  1 of 1 completed\n",
      "[*********************100%%**********************]  1 of 1 completed\n",
      "[*********************100%%**********************]  1 of 1 completed\n",
      "[*********************100%%**********************]  1 of 1 completed\n",
      "[*********************100%%**********************]  1 of 1 completed\n",
      "[*********************100%%**********************]  1 of 1 completed\n",
      "[*********************100%%**********************]  1 of 1 completed\n",
      "[*********************100%%**********************]  1 of 1 completed\n",
      "[*********************100%%**********************]  1 of 1 completed\n",
      "[*********************100%%**********************]  1 of 1 completed\n",
      "[*********************100%%**********************]  1 of 1 completed\n",
      "[*********************100%%**********************]  1 of 1 completed\n",
      "[*********************100%%**********************]  1 of 1 completed\n",
      "[*********************100%%**********************]  1 of 1 completed\n",
      "[*********************100%%**********************]  1 of 1 completed\n",
      "[*********************100%%**********************]  1 of 1 completed\n",
      "[*********************100%%**********************]  1 of 1 completed\n",
      "[*********************100%%**********************]  1 of 1 completed\n",
      "[*********************100%%**********************]  1 of 1 completed\n",
      "[*********************100%%**********************]  1 of 1 completed\n",
      "[*********************100%%**********************]  1 of 1 completed\n",
      "[*********************100%%**********************]  1 of 1 completed\n"
     ]
    }
   ],
   "source": [
    "ks_corr,ks_p_val=pc_corr('KS')"
   ]
  },
  {
   "cell_type": "code",
   "execution_count": 175,
   "id": "91cef2a2-72f1-49ff-bbcb-0ea08c5aa249",
   "metadata": {
    "scrolled": true
   },
   "outputs": [
    {
     "name": "stderr",
     "output_type": "stream",
     "text": [
      "[*********************100%%**********************]  1 of 1 completed\n",
      "[*********************100%%**********************]  1 of 1 completed\n",
      "[*********************100%%**********************]  1 of 1 completed\n",
      "[*********************100%%**********************]  1 of 1 completed\n",
      "[*********************100%%**********************]  1 of 1 completed\n",
      "[*********************100%%**********************]  1 of 1 completed\n",
      "[*********************100%%**********************]  1 of 1 completed\n",
      "[*********************100%%**********************]  1 of 1 completed\n",
      "[*********************100%%**********************]  1 of 1 completed\n",
      "[*********************100%%**********************]  1 of 1 completed\n",
      "[*********************100%%**********************]  1 of 1 completed\n",
      "[*********************100%%**********************]  1 of 1 completed\n",
      "[*********************100%%**********************]  1 of 1 completed\n",
      "[*********************100%%**********************]  1 of 1 completed\n",
      "[*********************100%%**********************]  1 of 1 completed\n",
      "[*********************100%%**********************]  1 of 1 completed\n",
      "[*********************100%%**********************]  1 of 1 completed\n",
      "[*********************100%%**********************]  1 of 1 completed\n",
      "[*********************100%%**********************]  1 of 1 completed\n",
      "[*********************100%%**********************]  1 of 1 completed\n",
      "[*********************100%%**********************]  1 of 1 completed\n",
      "[*********************100%%**********************]  1 of 1 completed\n",
      "[*********************100%%**********************]  1 of 1 completed\n",
      "[*********************100%%**********************]  1 of 1 completed\n",
      "[*********************100%%**********************]  1 of 1 completed\n",
      "[*********************100%%**********************]  1 of 1 completed\n",
      "[*********************100%%**********************]  1 of 1 completed\n",
      "[*********************100%%**********************]  1 of 1 completed\n",
      "[*********************100%%**********************]  1 of 1 completed\n",
      "[*********************100%%**********************]  1 of 1 completed\n"
     ]
    }
   ],
   "source": [
    "kq_corr,kq_p_val=pc_corr('KQ')"
   ]
  },
  {
   "cell_type": "code",
   "execution_count": 176,
   "id": "6c5cd32d-6691-4ac8-9024-9a18ac05dfb8",
   "metadata": {},
   "outputs": [],
   "source": [
    "corr_df = pd.concat([ks_corr,kq_corr,s_corr],axis = 1)\n",
    "p_val_df = pd.concat([ks_p_val,kq_p_val,s_p_val],axis = 1)"
   ]
  },
  {
   "cell_type": "code",
   "execution_count": 177,
   "id": "41ba6b00-4b6e-4a39-8f3f-92362542ad07",
   "metadata": {},
   "outputs": [],
   "source": [
    "column_name = ['kospi_전체','kospi_금리상승기','kospi_금리동결기','kosdaq_전체','kosdaq_금리상승기','kosdaq_금리동결기','스폰서_전체','스폰서_금리상승기','스폰서_금리동결기']\n",
    "corr_df.columns = column_name\n",
    "p_val_df.columns = column_name"
   ]
  },
  {
   "cell_type": "code",
   "execution_count": 160,
   "id": "4e640568-9d30-4f71-be6d-2e0126ae0f81",
   "metadata": {},
   "outputs": [],
   "source": [
    "corr_df.to_csv('대주주_상관계수.csv')"
   ]
  },
  {
   "cell_type": "code",
   "execution_count": 161,
   "id": "adb38dfe-72ab-4e6d-8a75-419492f56b14",
   "metadata": {},
   "outputs": [],
   "source": [
    "p_val_df.to_csv('대주주_P-value.csv')"
   ]
  },
  {
   "cell_type": "code",
   "execution_count": null,
   "id": "f3282b8e-8aad-414b-9f02-42c6ae3c6e96",
   "metadata": {},
   "outputs": [],
   "source": []
  }
 ],
 "metadata": {
  "kernelspec": {
   "display_name": "Python 3 (ipykernel)",
   "language": "python",
   "name": "python3"
  },
  "language_info": {
   "codemirror_mode": {
    "name": "ipython",
    "version": 3
   },
   "file_extension": ".py",
   "mimetype": "text/x-python",
   "name": "python",
   "nbconvert_exporter": "python",
   "pygments_lexer": "ipython3",
   "version": "3.11.5"
  }
 },
 "nbformat": 4,
 "nbformat_minor": 5
}
