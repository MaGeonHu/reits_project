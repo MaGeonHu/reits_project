{
 "cells": [
  {
   "cell_type": "code",
   "execution_count": 1,
   "id": "425ea1e8-3d08-4383-b4a6-cd851128b63d",
   "metadata": {},
   "outputs": [],
   "source": [
    "import pandas as pd\n",
    "import statsmodels.api as sm"
   ]
  },
  {
   "cell_type": "code",
   "execution_count": 3,
   "id": "d8294e6c-bd63-41c8-935a-d1a570051717",
   "metadata": {},
   "outputs": [],
   "source": [
    "parents = pd.read_csv('대주주일별수익률.csv',index_col = 0)\n",
    "child = pd.read_csv('리츠일별수익률.csv',index_col = 0)"
   ]
  },
  {
   "cell_type": "code",
   "execution_count": 34,
   "id": "c88d1bdb-93f8-4cd0-a8a2-aee9872a4d2f",
   "metadata": {},
   "outputs": [],
   "source": [
    "df = pd.DataFrame()\n",
    "for i in parents.columns:\n",
    "    beta_list = []\n",
    "    p_list = []\n",
    "    for j in child.columns:\n",
    "        model = sm.OLS(child.loc[:,j],parents.loc[:,i])\n",
    "        fitted_model = model.fit()\n",
    "        beta_list.append(fitted_model.params.values[0])\n",
    "        p_list.append(fitted_model.pvalues.values[0])\n",
    "    temp_1 = i+'_beta'\n",
    "    temp_2 = i+'_p_val'\n",
    "    df[temp_1] = beta_list\n",
    "    df[temp_2] = p_list\n",
    "df.index = child.columns\n"
   ]
  },
  {
   "cell_type": "code",
   "execution_count": 37,
   "id": "ad29ea9b-8476-42e7-a11c-9d1742a7a491",
   "metadata": {},
   "outputs": [],
   "source": [
    "df.to_csv('일별수익Beta_P_Val.csv')"
   ]
  },
  {
   "cell_type": "code",
   "execution_count": null,
   "id": "db8edc9b-6705-4db4-969f-fad169d41fcb",
   "metadata": {},
   "outputs": [],
   "source": [
    "\n"
   ]
  }
 ],
 "metadata": {
  "kernelspec": {
   "display_name": "Python 3 (ipykernel)",
   "language": "python",
   "name": "python3"
  },
  "language_info": {
   "codemirror_mode": {
    "name": "ipython",
    "version": 3
   },
   "file_extension": ".py",
   "mimetype": "text/x-python",
   "name": "python",
   "nbconvert_exporter": "python",
   "pygments_lexer": "ipython3",
   "version": "3.11.5"
  }
 },
 "nbformat": 4,
 "nbformat_minor": 5
}
