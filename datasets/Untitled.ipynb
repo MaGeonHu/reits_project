{
 "cells": [
  {
   "cell_type": "code",
   "execution_count": 16,
   "id": "f8703d3f-265c-44cb-aba5-e117350092f1",
   "metadata": {},
   "outputs": [],
   "source": [
    "import pandas as pd"
   ]
  },
  {
   "cell_type": "code",
   "execution_count": 18,
   "id": "fe10bbf7-e78b-497f-9cfb-3507ce7b8ecb",
   "metadata": {},
   "outputs": [],
   "source": [
    "df = pd.read_csv('./정리.csv')"
   ]
  },
  {
   "cell_type": "code",
   "execution_count": 20,
   "id": "0c3e04ab-865e-4cc1-8339-08ee85a5a075",
   "metadata": {},
   "outputs": [],
   "source": [
    "df_1 = df.iloc[:,:2]"
   ]
  },
  {
   "cell_type": "code",
   "execution_count": 23,
   "id": "b4a6ff74-058b-480c-afb4-c1bb58ace832",
   "metadata": {},
   "outputs": [],
   "source": [
    "df_1 = df_1.dropna()"
   ]
  },
  {
   "cell_type": "code",
   "execution_count": 41,
   "id": "228c75e5-4a2e-4ce0-8ffe-a59afa7a1a5f",
   "metadata": {},
   "outputs": [
    {
     "name": "stderr",
     "output_type": "stream",
     "text": [
      "C:\\Users\\geonh\\AppData\\Local\\Temp\\ipykernel_48164\\1303569388.py:2: SettingWithCopyWarning: \n",
      "A value is trying to be set on a copy of a slice from a DataFrame\n",
      "\n",
      "See the caveats in the documentation: https://pandas.pydata.org/pandas-docs/stable/user_guide/indexing.html#returning-a-view-versus-a-copy\n",
      "  df_1['티커'][i] = str(int(df_1['티커'][i]))\n",
      "C:\\Users\\geonh\\AppData\\Local\\Temp\\ipykernel_48164\\1303569388.py:2: FutureWarning: Setting an item of incompatible dtype is deprecated and will raise an error in a future version of pandas. Value '34730' has dtype incompatible with float64, please explicitly cast to a compatible dtype first.\n",
      "  df_1['티커'][i] = str(int(df_1['티커'][i]))\n"
     ]
    }
   ],
   "source": [
    "for i in range(len(df_1)):\n",
    "    df_1['티커'][i] = str(int(df_1['티커'][i]))"
   ]
  },
  {
   "cell_type": "code",
   "execution_count": 47,
   "id": "6fb7df57-b78d-4874-9a7c-0b67da504b10",
   "metadata": {},
   "outputs": [
    {
     "name": "stderr",
     "output_type": "stream",
     "text": [
      "C:\\Users\\geonh\\AppData\\Local\\Temp\\ipykernel_48164\\72302611.py:8: SettingWithCopyWarning: \n",
      "A value is trying to be set on a copy of a slice from a DataFrame.\n",
      "Try using .loc[row_indexer,col_indexer] = value instead\n",
      "\n",
      "See the caveats in the documentation: https://pandas.pydata.org/pandas-docs/stable/user_guide/indexing.html#returning-a-view-versus-a-copy\n",
      "  df_1['티커'] = list\n"
     ]
    }
   ],
   "source": [
    "list = []\n",
    "for i in df_1['티커']:\n",
    "    temp = i\n",
    "    while len(temp) < 6 :\n",
    "        temp = '0' + temp\n",
    "    list.append(temp)\n",
    "\n",
    "df_1['티커'] = list"
   ]
  },
  {
   "cell_type": "code",
   "execution_count": 49,
   "id": "c7cf9019-f7f6-4c4d-a380-6e99f96961b1",
   "metadata": {},
   "outputs": [],
   "source": [
    "df_1.to_csv('대주주_티커.csv')"
   ]
  },
  {
   "cell_type": "code",
   "execution_count": 54,
   "id": "48333f62-7158-4241-a659-f65d996aa10b",
   "metadata": {},
   "outputs": [],
   "source": [
    "df_2 = df.iloc[:,[2,4]]"
   ]
  },
  {
   "cell_type": "code",
   "execution_count": 58,
   "id": "f8c2b9b3-0c1b-47c8-a59a-d15b6f6dafd4",
   "metadata": {},
   "outputs": [
    {
     "name": "stderr",
     "output_type": "stream",
     "text": [
      "C:\\Users\\geonh\\AppData\\Local\\Temp\\ipykernel_48164\\894883690.py:2: FutureWarning: ChainedAssignmentError: behaviour will change in pandas 3.0!\n",
      "You are setting values through chained assignment. Currently this works in certain cases, but when using Copy-on-Write (which will become the default behaviour in pandas 3.0) this will never work to update the original DataFrame or Series, because the intermediate object on which we are setting values will behave as a copy.\n",
      "A typical example is when you are setting values in a column of a DataFrame, like:\n",
      "\n",
      "df[\"col\"][row_indexer] = value\n",
      "\n",
      "Use `df.loc[row_indexer, \"col\"] = values` instead, to perform the assignment in a single step and ensure this keeps updating the original `df`.\n",
      "\n",
      "See the caveats in the documentation: https://pandas.pydata.org/pandas-docs/stable/user_guide/indexing.html#returning-a-view-versus-a-copy\n",
      "\n",
      "  df_2['리츠티커'][i] = str(int(df_2['리츠티커'][i]))\n",
      "C:\\Users\\geonh\\AppData\\Local\\Temp\\ipykernel_48164\\894883690.py:2: SettingWithCopyWarning: \n",
      "A value is trying to be set on a copy of a slice from a DataFrame\n",
      "\n",
      "See the caveats in the documentation: https://pandas.pydata.org/pandas-docs/stable/user_guide/indexing.html#returning-a-view-versus-a-copy\n",
      "  df_2['리츠티커'][i] = str(int(df_2['리츠티커'][i]))\n",
      "C:\\Users\\geonh\\AppData\\Local\\Temp\\ipykernel_48164\\894883690.py:2: FutureWarning: Setting an item of incompatible dtype is deprecated and will raise an error in a future version of pandas. Value '395400' has dtype incompatible with int64, please explicitly cast to a compatible dtype first.\n",
      "  df_2['리츠티커'][i] = str(int(df_2['리츠티커'][i]))\n"
     ]
    }
   ],
   "source": [
    "for i in range(len(df_2)):\n",
    "    df_2['리츠티커'][i] = str(int(df_2['리츠티커'][i]))"
   ]
  },
  {
   "cell_type": "code",
   "execution_count": 60,
   "id": "a4357da5-5c57-4137-bc50-8baafd482125",
   "metadata": {},
   "outputs": [
    {
     "name": "stderr",
     "output_type": "stream",
     "text": [
      "C:\\Users\\geonh\\AppData\\Local\\Temp\\ipykernel_48164\\3803544161.py:8: SettingWithCopyWarning: \n",
      "A value is trying to be set on a copy of a slice from a DataFrame.\n",
      "Try using .loc[row_indexer,col_indexer] = value instead\n",
      "\n",
      "See the caveats in the documentation: https://pandas.pydata.org/pandas-docs/stable/user_guide/indexing.html#returning-a-view-versus-a-copy\n",
      "  df_2['리츠티커'] = list\n"
     ]
    }
   ],
   "source": [
    "list = []\n",
    "for i in df_2['리츠티커']:\n",
    "    temp = i\n",
    "    while len(temp) < 6 :\n",
    "        temp = '0' + temp\n",
    "    list.append(temp)\n",
    "\n",
    "df_2['리츠티커'] = list"
   ]
  },
  {
   "cell_type": "code",
   "execution_count": 62,
   "id": "763548fd-64ce-475c-8f71-49d8892a8550",
   "metadata": {},
   "outputs": [],
   "source": [
    "df_2.to_csv('리츠티커.csv')"
   ]
  },
  {
   "cell_type": "code",
   "execution_count": null,
   "id": "e14af6f9-7a93-4bde-8b11-dd3df183216e",
   "metadata": {},
   "outputs": [],
   "source": []
  }
 ],
 "metadata": {
  "kernelspec": {
   "display_name": "Python 3 (ipykernel)",
   "language": "python",
   "name": "python3"
  },
  "language_info": {
   "codemirror_mode": {
    "name": "ipython",
    "version": 3
   },
   "file_extension": ".py",
   "mimetype": "text/x-python",
   "name": "python",
   "nbconvert_exporter": "python",
   "pygments_lexer": "ipython3",
   "version": "3.11.5"
  }
 },
 "nbformat": 4,
 "nbformat_minor": 5
}
